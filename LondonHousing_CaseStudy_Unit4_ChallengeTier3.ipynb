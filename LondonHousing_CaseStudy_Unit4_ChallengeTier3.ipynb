{
 "cells": [
  {
   "cell_type": "markdown",
   "metadata": {
    "colab_type": "text",
    "id": "Tia3MP1SJpgj"
   },
   "source": [
    "# Springboard Data Science Career Track Unit 4 Challenge - Tier 3 Complete\n",
    "\n",
    "## Objectives\n",
    "Hey! Great job getting through those challenging DataCamp courses. You're learning a lot in a short span of time. \n",
    "\n",
    "In this notebook, you're going to apply the skills you've been learning, bridging the gap between the controlled environment of DataCamp and the *slightly* messier work that data scientists do with actual datasets!\n",
    "\n",
    "Here’s the mystery we’re going to solve: ***which boroughs of London have seen the greatest increase in housing prices, on average, over the last two decades?***\n",
    "\n",
    "\n",
    "A borough is just a fancy word for district. You may be familiar with the five boroughs of New York… well, there are 32 boroughs within Greater London [(here's some info for the curious)](https://en.wikipedia.org/wiki/London_boroughs). Some of them are more desirable areas to live in, and the data will reflect that with a greater rise in housing prices.\n",
    "\n",
    "***This is the Tier 3 notebook, which means it's not filled in at all: we'll just give you the skeleton of a project, the brief and the data. It's up to you to play around with it and see what you can find out! Good luck! If you struggle, feel free to look at easier tiers for help; but try to dip in and out of them, as the more independent work you do, the better it is for your learning!***\n",
    "\n",
    "This challenge will make use of only what you learned in the following DataCamp courses: \n",
    "- Prework courses (Introduction to Python for Data Science, Intermediate Python for Data Science)\n",
    "- Data Types for Data Science\n",
    "- Python Data Science Toolbox (Part One) \n",
    "- pandas Foundations\n",
    "- Manipulating DataFrames with pandas\n",
    "- Merging DataFrames with pandas\n",
    "\n",
    "Of the tools, techniques and concepts in the above DataCamp courses, this challenge should require the application of the following: \n",
    "- **pandas**\n",
    "    - **data ingestion and inspection** (pandas Foundations, Module One) \n",
    "    - **exploratory data analysis** (pandas Foundations, Module Two)\n",
    "    - **tidying and cleaning** (Manipulating DataFrames with pandas, Module Three) \n",
    "    - **transforming DataFrames** (Manipulating DataFrames with pandas, Module One)\n",
    "    - **subsetting DataFrames with lists** (Manipulating DataFrames with pandas, Module One) \n",
    "    - **filtering DataFrames** (Manipulating DataFrames with pandas, Module One) \n",
    "    - **grouping data** (Manipulating DataFrames with pandas, Module Four) \n",
    "    - **melting data** (Manipulating DataFrames with pandas, Module Three) \n",
    "    - **advanced indexing** (Manipulating DataFrames with pandas, Module Four) \n",
    "- **matplotlib** (Intermediate Python for Data Science, Module One)\n",
    "- **fundamental data types** (Data Types for Data Science, Module One) \n",
    "- **dictionaries** (Intermediate Python for Data Science, Module Two)\n",
    "- **handling dates and times** (Data Types for Data Science, Module Four)\n",
    "- **function definition** (Python Data Science Toolbox - Part One, Module One)\n",
    "- **default arguments, variable length, and scope** (Python Data Science Toolbox - Part One, Module Two) \n",
    "- **lambda functions and error handling** (Python Data Science Toolbox - Part One, Module Four) "
   ]
  },
  {
   "cell_type": "markdown",
   "metadata": {
    "colab_type": "text",
    "id": "Ipgd2nV8Jpgl"
   },
   "source": [
    "## The Data Science Pipeline\n",
    "\n",
    "This is Tier Three, so we'll get you started. But after that, it's all in your hands! When you feel done with your investigations, look back over what you've accomplished, and prepare a quick presentation of your findings for the next mentor meeting. \n",
    "\n",
    "Data Science is magical. In this case study, you'll get to apply some complex machine learning algorithms. But as  [David Spiegelhalter](https://www.youtube.com/watch?v=oUs1uvsz0Ok) reminds us, there is no substitute for simply **taking a really, really good look at the data.** Sometimes, this is all we need to answer our question.\n",
    "\n",
    "Data Science projects generally adhere to the four stages of Data Science Pipeline:\n",
    "1. Sourcing and loading \n",
    "2. Cleaning, transforming, and visualizing \n",
    "3. Modeling \n",
    "4. Evaluating and concluding \n"
   ]
  },
  {
   "cell_type": "markdown",
   "metadata": {
    "colab_type": "text",
    "id": "zswDqbefJpgm"
   },
   "source": [
    "### 1. Sourcing and Loading \n",
    "\n",
    "Any Data Science project kicks off by importing  ***pandas***. The documentation of this wonderful library can be found [here](https://pandas.pydata.org/). As you've seen, pandas is conveniently connected to the [Numpy](http://www.numpy.org/) and [Matplotlib](https://matplotlib.org/) libraries. \n",
    "\n",
    "***Hint:*** This part of the data science pipeline will test those skills you acquired in the pandas Foundations course, Module One. "
   ]
  },
  {
   "cell_type": "markdown",
   "metadata": {
    "colab_type": "text",
    "id": "aEau5nEvJpgm"
   },
   "source": [
    "#### 1.1. Importing Libraries"
   ]
  },
  {
   "cell_type": "code",
   "execution_count": 58,
   "metadata": {
    "colab": {},
    "colab_type": "code",
    "id": "7Bt_Q_oPJpgn"
   },
   "outputs": [],
   "source": [
    "# Let's import the pandas, numpy libraries as pd, and np respectively. \n",
    "import pandas as pd\n",
    "import numpy as np\n",
    "\n",
    "# Load the pyplot collection of functions from matplotlib, as plt \n",
    "import matplotlib.pyplot as plt"
   ]
  },
  {
   "cell_type": "markdown",
   "metadata": {
    "colab_type": "text",
    "id": "koUrawxsJpgq"
   },
   "source": [
    "#### 1.2.  Loading the data\n",
    "Your data comes from the [London Datastore](https://data.london.gov.uk/): a free, open-source data-sharing portal for London-oriented datasets. "
   ]
  },
  {
   "cell_type": "code",
   "execution_count": 59,
   "metadata": {
    "colab": {},
    "colab_type": "code",
    "id": "AiLiD4v3Jpgr"
   },
   "outputs": [],
   "source": [
    "# First, make a variable called url_LondonHousePrices, and assign it the following link, enclosed in quotation-marks as a string:\n",
    "# https://data.london.gov.uk/download/uk-house-price-index/70ac0766-8902-4eb5-aab5-01951aaed773/UK%20House%20price%20index.xls\n",
    "\n",
    "url_LondonHousePrices = \"https://data.london.gov.uk/download/uk-house-price-index/70ac0766-8902-4eb5-aab5-01951aaed773/UK%20House%20price%20index.xls\"\n",
    "\n",
    "# The dataset we're interested in contains the Average prices of the houses, and is actually on a particular sheet of the Excel file. \n",
    "# As a result, we need to specify the sheet name in the read_excel() method.\n",
    "# Put this data into a variable called properties.  \n",
    "properties = pd.read_excel(url_LondonHousePrices, sheet_name='Average price', index_col= None)"
   ]
  },
  {
   "cell_type": "markdown",
   "metadata": {
    "colab_type": "text",
    "id": "POukEJXgJpgu"
   },
   "source": [
    "### 2. Cleaning, transforming, and visualizing\n",
    "This second stage is arguably the most important part of any Data Science project. The first thing to do is take a proper look at the data. Cleaning forms the majority of this stage, and can be done both before or after Transformation.\n",
    "\n",
    "The end goal of data cleaning is to have tidy data. When data is tidy: \n",
    "\n",
    "1. Each variable has a column.\n",
    "2. Each observation forms a row.\n",
    "\n",
    "Keep the end goal in mind as you move through this process, every step will take you closer. \n",
    "\n",
    "\n",
    "\n",
    "***Hint:*** This part of the data science pipeline should test those skills you acquired in: \n",
    "- Intermediate Python for data science, all modules.\n",
    "- pandas Foundations, all modules. \n",
    "- Manipulating DataFrames with pandas, all modules.\n",
    "- Data Types for Data Science, Module Four.\n",
    "- Python Data Science Toolbox - Part One, all modules"
   ]
  },
  {
   "cell_type": "markdown",
   "metadata": {
    "colab_type": "text",
    "id": "Te0Q548tnzZa"
   },
   "source": [
    "**2.1. Exploring your data** \n",
    "\n",
    "Think about your pandas functions for checking out a dataframe. "
   ]
  },
  {
   "cell_type": "code",
   "execution_count": 60,
   "metadata": {
    "colab": {},
    "colab_type": "code",
    "id": "Rxirxw_qoAJa"
   },
   "outputs": [
    {
     "name": "stdout",
     "output_type": "stream",
     "text": [
      "(322, 49)\n"
     ]
    },
    {
     "data": {
      "text/html": [
       "<div>\n",
       "<style scoped>\n",
       "    .dataframe tbody tr th:only-of-type {\n",
       "        vertical-align: middle;\n",
       "    }\n",
       "\n",
       "    .dataframe tbody tr th {\n",
       "        vertical-align: top;\n",
       "    }\n",
       "\n",
       "    .dataframe thead th {\n",
       "        text-align: right;\n",
       "    }\n",
       "</style>\n",
       "<table border=\"1\" class=\"dataframe\">\n",
       "  <thead>\n",
       "    <tr style=\"text-align: right;\">\n",
       "      <th></th>\n",
       "      <th>Unnamed: 0</th>\n",
       "      <th>City of London</th>\n",
       "      <th>Barking &amp; Dagenham</th>\n",
       "      <th>Barnet</th>\n",
       "      <th>Bexley</th>\n",
       "      <th>Brent</th>\n",
       "      <th>Bromley</th>\n",
       "      <th>Camden</th>\n",
       "      <th>Croydon</th>\n",
       "      <th>Ealing</th>\n",
       "      <th>...</th>\n",
       "      <th>NORTH WEST</th>\n",
       "      <th>YORKS &amp; THE HUMBER</th>\n",
       "      <th>EAST MIDLANDS</th>\n",
       "      <th>WEST MIDLANDS</th>\n",
       "      <th>EAST OF ENGLAND</th>\n",
       "      <th>LONDON</th>\n",
       "      <th>SOUTH EAST</th>\n",
       "      <th>SOUTH WEST</th>\n",
       "      <th>Unnamed: 47</th>\n",
       "      <th>England</th>\n",
       "    </tr>\n",
       "  </thead>\n",
       "  <tbody>\n",
       "    <tr>\n",
       "      <th>0</th>\n",
       "      <td>NaT</td>\n",
       "      <td>E09000001</td>\n",
       "      <td>E09000002</td>\n",
       "      <td>E09000003</td>\n",
       "      <td>E09000004</td>\n",
       "      <td>E09000005</td>\n",
       "      <td>E09000006</td>\n",
       "      <td>E09000007</td>\n",
       "      <td>E09000008</td>\n",
       "      <td>E09000009</td>\n",
       "      <td>...</td>\n",
       "      <td>E12000002</td>\n",
       "      <td>E12000003</td>\n",
       "      <td>E12000004</td>\n",
       "      <td>E12000005</td>\n",
       "      <td>E12000006</td>\n",
       "      <td>E12000007</td>\n",
       "      <td>E12000008</td>\n",
       "      <td>E12000009</td>\n",
       "      <td>NaN</td>\n",
       "      <td>E92000001</td>\n",
       "    </tr>\n",
       "    <tr>\n",
       "      <th>1</th>\n",
       "      <td>1995-01-01</td>\n",
       "      <td>91448.98487</td>\n",
       "      <td>50460.2266</td>\n",
       "      <td>93284.51832</td>\n",
       "      <td>64958.09036</td>\n",
       "      <td>71306.56698</td>\n",
       "      <td>81671.47692</td>\n",
       "      <td>120932.8881</td>\n",
       "      <td>69158.16225</td>\n",
       "      <td>79885.89069</td>\n",
       "      <td>...</td>\n",
       "      <td>43958.48001</td>\n",
       "      <td>44803.42878</td>\n",
       "      <td>45544.52227</td>\n",
       "      <td>48527.52339</td>\n",
       "      <td>56701.5961</td>\n",
       "      <td>74435.76052</td>\n",
       "      <td>64018.87894</td>\n",
       "      <td>54705.1579</td>\n",
       "      <td>NaN</td>\n",
       "      <td>53202.77128</td>\n",
       "    </tr>\n",
       "    <tr>\n",
       "      <th>2</th>\n",
       "      <td>1995-02-01</td>\n",
       "      <td>82202.77314</td>\n",
       "      <td>51085.77983</td>\n",
       "      <td>93190.16963</td>\n",
       "      <td>64787.92069</td>\n",
       "      <td>72022.26197</td>\n",
       "      <td>81657.55944</td>\n",
       "      <td>119508.8622</td>\n",
       "      <td>68951.09542</td>\n",
       "      <td>80897.06551</td>\n",
       "      <td>...</td>\n",
       "      <td>43925.42289</td>\n",
       "      <td>44528.80721</td>\n",
       "      <td>46051.57066</td>\n",
       "      <td>49341.29029</td>\n",
       "      <td>56593.59475</td>\n",
       "      <td>72777.93709</td>\n",
       "      <td>63715.02399</td>\n",
       "      <td>54356.14843</td>\n",
       "      <td>NaN</td>\n",
       "      <td>53096.1549</td>\n",
       "    </tr>\n",
       "    <tr>\n",
       "      <th>3</th>\n",
       "      <td>1995-03-01</td>\n",
       "      <td>79120.70256</td>\n",
       "      <td>51268.96956</td>\n",
       "      <td>92247.52435</td>\n",
       "      <td>64367.49344</td>\n",
       "      <td>72015.76274</td>\n",
       "      <td>81449.31143</td>\n",
       "      <td>120282.2131</td>\n",
       "      <td>68712.44341</td>\n",
       "      <td>81379.86288</td>\n",
       "      <td>...</td>\n",
       "      <td>44434.8681</td>\n",
       "      <td>45200.46775</td>\n",
       "      <td>45383.82395</td>\n",
       "      <td>49442.17973</td>\n",
       "      <td>56171.18278</td>\n",
       "      <td>73896.84204</td>\n",
       "      <td>64113.60858</td>\n",
       "      <td>53583.07667</td>\n",
       "      <td>NaN</td>\n",
       "      <td>53201.2843</td>\n",
       "    </tr>\n",
       "    <tr>\n",
       "      <th>4</th>\n",
       "      <td>1995-04-01</td>\n",
       "      <td>77101.20804</td>\n",
       "      <td>53133.50526</td>\n",
       "      <td>90762.87492</td>\n",
       "      <td>64277.66881</td>\n",
       "      <td>72965.63094</td>\n",
       "      <td>81124.41227</td>\n",
       "      <td>120097.899</td>\n",
       "      <td>68610.04641</td>\n",
       "      <td>82188.90498</td>\n",
       "      <td>...</td>\n",
       "      <td>44267.7796</td>\n",
       "      <td>45614.34341</td>\n",
       "      <td>46124.23045</td>\n",
       "      <td>49455.93299</td>\n",
       "      <td>56567.89582</td>\n",
       "      <td>74455.28754</td>\n",
       "      <td>64623.22395</td>\n",
       "      <td>54786.01938</td>\n",
       "      <td>NaN</td>\n",
       "      <td>53590.8548</td>\n",
       "    </tr>\n",
       "  </tbody>\n",
       "</table>\n",
       "<p>5 rows × 49 columns</p>\n",
       "</div>"
      ],
      "text/plain": [
       "  Unnamed: 0 City of London Barking & Dagenham       Barnet       Bexley  \\\n",
       "0        NaT      E09000001          E09000002    E09000003    E09000004   \n",
       "1 1995-01-01    91448.98487         50460.2266  93284.51832  64958.09036   \n",
       "2 1995-02-01    82202.77314        51085.77983  93190.16963  64787.92069   \n",
       "3 1995-03-01    79120.70256        51268.96956  92247.52435  64367.49344   \n",
       "4 1995-04-01    77101.20804        53133.50526  90762.87492  64277.66881   \n",
       "\n",
       "         Brent      Bromley       Camden      Croydon       Ealing  ...  \\\n",
       "0    E09000005    E09000006    E09000007    E09000008    E09000009  ...   \n",
       "1  71306.56698  81671.47692  120932.8881  69158.16225  79885.89069  ...   \n",
       "2  72022.26197  81657.55944  119508.8622  68951.09542  80897.06551  ...   \n",
       "3  72015.76274  81449.31143  120282.2131  68712.44341  81379.86288  ...   \n",
       "4  72965.63094  81124.41227   120097.899  68610.04641  82188.90498  ...   \n",
       "\n",
       "    NORTH WEST YORKS & THE HUMBER EAST MIDLANDS WEST MIDLANDS EAST OF ENGLAND  \\\n",
       "0    E12000002          E12000003     E12000004     E12000005       E12000006   \n",
       "1  43958.48001        44803.42878   45544.52227   48527.52339      56701.5961   \n",
       "2  43925.42289        44528.80721   46051.57066   49341.29029     56593.59475   \n",
       "3   44434.8681        45200.46775   45383.82395   49442.17973     56171.18278   \n",
       "4   44267.7796        45614.34341   46124.23045   49455.93299     56567.89582   \n",
       "\n",
       "        LONDON   SOUTH EAST   SOUTH WEST Unnamed: 47      England  \n",
       "0    E12000007    E12000008    E12000009         NaN    E92000001  \n",
       "1  74435.76052  64018.87894   54705.1579         NaN  53202.77128  \n",
       "2  72777.93709  63715.02399  54356.14843         NaN   53096.1549  \n",
       "3  73896.84204  64113.60858  53583.07667         NaN   53201.2843  \n",
       "4  74455.28754  64623.22395  54786.01938         NaN   53590.8548  \n",
       "\n",
       "[5 rows x 49 columns]"
      ]
     },
     "execution_count": 60,
     "metadata": {},
     "output_type": "execute_result"
    }
   ],
   "source": [
    "print(properties.shape)\n",
    "properties.head()"
   ]
  },
  {
   "cell_type": "markdown",
   "metadata": {
    "colab_type": "text",
    "id": "tE9Sqt9-oAta"
   },
   "source": [
    "**2.2. Cleaning the data**\n",
    "\n",
    "You might find you need to transpose your dataframe, check out what its row indexes are, and reset the index. You  also might find you need to assign the values of the first row to your column headings  . (Hint: recall the .columns feature of DataFrames, as well as the iloc[] method).\n",
    "\n",
    "Don't be afraid to use StackOverflow for help  with this."
   ]
  },
  {
   "cell_type": "code",
   "execution_count": 61,
   "metadata": {
    "colab": {},
    "colab_type": "code",
    "id": "cdAu1A3YoH_r"
   },
   "outputs": [
    {
     "name": "stdout",
     "output_type": "stream",
     "text": [
      "\n",
      "**** Properties dataframe Index ****\n",
      "Index(['Unnamed: 0', 'City of London', 'Barking & Dagenham', 'Barnet',\n",
      "       'Bexley', 'Brent', 'Bromley', 'Camden', 'Croydon', 'Ealing', 'Enfield',\n",
      "       'Greenwich', 'Hackney', 'Hammersmith & Fulham', 'Haringey', 'Harrow',\n",
      "       'Havering', 'Hillingdon', 'Hounslow', 'Islington',\n",
      "       'Kensington & Chelsea', 'Kingston upon Thames', 'Lambeth', 'Lewisham',\n",
      "       'Merton', 'Newham', 'Redbridge', 'Richmond upon Thames', 'Southwark',\n",
      "       'Sutton', 'Tower Hamlets', 'Waltham Forest', 'Wandsworth',\n",
      "       'Westminster', 'Unnamed: 34', 'Inner London', 'Outer London',\n",
      "       'Unnamed: 37', 'NORTH EAST', 'NORTH WEST', 'YORKS & THE HUMBER',\n",
      "       'EAST MIDLANDS', 'WEST MIDLANDS', 'EAST OF ENGLAND', 'LONDON',\n",
      "       'SOUTH EAST', 'SOUTH WEST', 'Unnamed: 47', 'England'],\n",
      "      dtype='object')\n",
      "\n",
      "**** Properties dataframe Columns ****\n",
      "RangeIndex(start=0, stop=322, step=1)\n",
      "\n",
      "**** Properties head after resetting index ****\n",
      "                index          0                    1                    2  \\\n",
      "0          Unnamed: 0        NaT  1995-01-01 00:00:00  1995-02-01 00:00:00   \n",
      "1      City of London  E09000001          91448.98487          82202.77314   \n",
      "2  Barking & Dagenham  E09000002           50460.2266          51085.77983   \n",
      "3              Barnet  E09000003          93284.51832          93190.16963   \n",
      "4              Bexley  E09000004          64958.09036          64787.92069   \n",
      "\n",
      "                     3                    4                    5  \\\n",
      "0  1995-03-01 00:00:00  1995-04-01 00:00:00  1995-05-01 00:00:00   \n",
      "1          79120.70256          77101.20804          84409.14932   \n",
      "2          51268.96956          53133.50526          53042.24852   \n",
      "3          92247.52435          90762.87492          90258.00033   \n",
      "4          64367.49344          64277.66881          63997.13588   \n",
      "\n",
      "                     6                    7                    8  ...  \\\n",
      "0  1995-06-01 00:00:00  1995-07-01 00:00:00  1995-08-01 00:00:00  ...   \n",
      "1          94900.51244          110128.0423          112329.4376  ...   \n",
      "2          53700.34831          52113.12157          52232.19868  ...   \n",
      "3          90107.23471          91441.24768          92361.31512  ...   \n",
      "4          64252.32335          63722.70055          64432.60005  ...   \n",
      "\n",
      "                   312                  313                  314  \\\n",
      "0  2020-12-01 00:00:00  2021-01-01 00:00:00  2021-02-01 00:00:00   \n",
      "1          801999.0466          754194.0982          725011.1264   \n",
      "2          309560.1023          312470.4977          315749.3442   \n",
      "3          532528.0926          538683.8133          537171.1625   \n",
      "4          352260.8385          355756.7322          359323.8616   \n",
      "\n",
      "                   315                  316                  317  \\\n",
      "0  2021-03-01 00:00:00  2021-04-01 00:00:00  2021-05-01 00:00:00   \n",
      "1          719703.4989          728496.7198          720954.3631   \n",
      "2          312381.5975          313131.2516          312430.6526   \n",
      "3          537972.6322           530778.403          533319.3495   \n",
      "4          361782.2198          362053.2197          361919.1777   \n",
      "\n",
      "                   318                  319                  320  \\\n",
      "0  2021-06-01 00:00:00  2021-07-01 00:00:00  2021-08-01 00:00:00   \n",
      "1          729878.6878                    -                    -   \n",
      "2          317234.7354          319549.9296          322496.3752   \n",
      "3          541296.7827          536012.6687          544558.8072   \n",
      "4          364464.1865          366451.6388          373547.2951   \n",
      "\n",
      "                   321  \n",
      "0  2021-09-01 00:00:00  \n",
      "1                    -  \n",
      "2          329287.2922  \n",
      "3           533093.293  \n",
      "4           375156.155  \n",
      "\n",
      "[5 rows x 323 columns]\n",
      "\n",
      "**** Properties head after updating column names ****\n",
      "0          Unnamed: 0        NaN 1995-01-01 00:00:00 1995-02-01 00:00:00  \\\n",
      "1      City of London  E09000001         91448.98487         82202.77314   \n",
      "2  Barking & Dagenham  E09000002          50460.2266         51085.77983   \n",
      "3              Barnet  E09000003         93284.51832         93190.16963   \n",
      "4              Bexley  E09000004         64958.09036         64787.92069   \n",
      "5               Brent  E09000005         71306.56698         72022.26197   \n",
      "\n",
      "0 1995-03-01 00:00:00 1995-04-01 00:00:00 1995-05-01 00:00:00  \\\n",
      "1         79120.70256         77101.20804         84409.14932   \n",
      "2         51268.96956         53133.50526         53042.24852   \n",
      "3         92247.52435         90762.87492         90258.00033   \n",
      "4         64367.49344         64277.66881         63997.13588   \n",
      "5         72015.76274         72965.63094         73704.04743   \n",
      "\n",
      "0 1995-06-01 00:00:00 1995-07-01 00:00:00 1995-08-01 00:00:00  ...  \\\n",
      "1         94900.51244         110128.0423         112329.4376  ...   \n",
      "2         53700.34831         52113.12157         52232.19868  ...   \n",
      "3         90107.23471         91441.24768         92361.31512  ...   \n",
      "4         64252.32335         63722.70055         64432.60005  ...   \n",
      "5         74310.48167         74127.03788          73547.0411  ...   \n",
      "\n",
      "0 2020-12-01 00:00:00 2021-01-01 00:00:00 2021-02-01 00:00:00  \\\n",
      "1         801999.0466         754194.0982         725011.1264   \n",
      "2         309560.1023         312470.4977         315749.3442   \n",
      "3         532528.0926         538683.8133         537171.1625   \n",
      "4         352260.8385         355756.7322         359323.8616   \n",
      "5         495066.6459         514525.2307         516500.5723   \n",
      "\n",
      "0 2021-03-01 00:00:00 2021-04-01 00:00:00 2021-05-01 00:00:00  \\\n",
      "1         719703.4989         728496.7198         720954.3631   \n",
      "2         312381.5975         313131.2516         312430.6526   \n",
      "3         537972.6322          530778.403         533319.3495   \n",
      "4         361782.2198         362053.2197         361919.1777   \n",
      "5         520406.5733         502074.0621         506917.3065   \n",
      "\n",
      "0 2021-06-01 00:00:00 2021-07-01 00:00:00 2021-08-01 00:00:00  \\\n",
      "1         729878.6878                   -                   -   \n",
      "2         317234.7354         319549.9296         322496.3752   \n",
      "3         541296.7827         536012.6687         544558.8072   \n",
      "4         364464.1865         366451.6388         373547.2951   \n",
      "5         514055.8987         528684.0547         533696.3904   \n",
      "\n",
      "0 2021-09-01 00:00:00  \n",
      "1                   -  \n",
      "2         329287.2922  \n",
      "3          533093.293  \n",
      "4          375156.155  \n",
      "5         542095.3343  \n",
      "\n",
      "[5 rows x 323 columns]\n"
     ]
    }
   ],
   "source": [
    "properties_trans = properties.transpose()\n",
    "print('\\n**** Properties dataframe Index ****')\n",
    "print(properties_trans.index)\n",
    "print('\\n**** Properties dataframe Columns ****')\n",
    "print(properties_trans.columns)\n",
    "\n",
    "properties_trans = properties_trans.reset_index()\n",
    "print('\\n**** Properties head after resetting index ****')\n",
    "print(properties_trans.head())\n",
    "\n",
    "## Update Column names by setting columns to 1st row and then delete the first row\n",
    "properties_trans.columns = properties_trans.iloc[0]\n",
    "properties_trans = properties_trans.drop(0)\n",
    "print('\\n**** Properties head after updating column names ****')\n",
    "print(properties_trans.head())"
   ]
  },
  {
   "cell_type": "markdown",
   "metadata": {
    "colab_type": "text",
    "id": "o1uLbJAsoIjK"
   },
   "source": [
    "**2.3. Cleaning the data (part 2)**\n",
    "\n",
    "You might we have to **rename** a couple columns. How do you do this? The clue's pretty bold..."
   ]
  },
  {
   "cell_type": "code",
   "execution_count": 62,
   "metadata": {
    "colab": {},
    "colab_type": "code",
    "id": "GKkmn1AnoVZS"
   },
   "outputs": [
    {
     "name": "stdout",
     "output_type": "stream",
     "text": [
      "0             Borough         ID 1995-01-01 00:00:00 1995-02-01 00:00:00  \\\n",
      "1      City of London  E09000001         91448.98487         82202.77314   \n",
      "2  Barking & Dagenham  E09000002          50460.2266         51085.77983   \n",
      "3              Barnet  E09000003         93284.51832         93190.16963   \n",
      "4              Bexley  E09000004         64958.09036         64787.92069   \n",
      "5               Brent  E09000005         71306.56698         72022.26197   \n",
      "\n",
      "0 1995-03-01 00:00:00 1995-04-01 00:00:00 1995-05-01 00:00:00  \\\n",
      "1         79120.70256         77101.20804         84409.14932   \n",
      "2         51268.96956         53133.50526         53042.24852   \n",
      "3         92247.52435         90762.87492         90258.00033   \n",
      "4         64367.49344         64277.66881         63997.13588   \n",
      "5         72015.76274         72965.63094         73704.04743   \n",
      "\n",
      "0 1995-06-01 00:00:00 1995-07-01 00:00:00 1995-08-01 00:00:00  ...  \\\n",
      "1         94900.51244         110128.0423         112329.4376  ...   \n",
      "2         53700.34831         52113.12157         52232.19868  ...   \n",
      "3         90107.23471         91441.24768         92361.31512  ...   \n",
      "4         64252.32335         63722.70055         64432.60005  ...   \n",
      "5         74310.48167         74127.03788          73547.0411  ...   \n",
      "\n",
      "0 2020-12-01 00:00:00 2021-01-01 00:00:00 2021-02-01 00:00:00  \\\n",
      "1         801999.0466         754194.0982         725011.1264   \n",
      "2         309560.1023         312470.4977         315749.3442   \n",
      "3         532528.0926         538683.8133         537171.1625   \n",
      "4         352260.8385         355756.7322         359323.8616   \n",
      "5         495066.6459         514525.2307         516500.5723   \n",
      "\n",
      "0 2021-03-01 00:00:00 2021-04-01 00:00:00 2021-05-01 00:00:00  \\\n",
      "1         719703.4989         728496.7198         720954.3631   \n",
      "2         312381.5975         313131.2516         312430.6526   \n",
      "3         537972.6322          530778.403         533319.3495   \n",
      "4         361782.2198         362053.2197         361919.1777   \n",
      "5         520406.5733         502074.0621         506917.3065   \n",
      "\n",
      "0 2021-06-01 00:00:00 2021-07-01 00:00:00 2021-08-01 00:00:00  \\\n",
      "1         729878.6878                   -                   -   \n",
      "2         317234.7354         319549.9296         322496.3752   \n",
      "3         541296.7827         536012.6687         544558.8072   \n",
      "4         364464.1865         366451.6388         373547.2951   \n",
      "5         514055.8987         528684.0547         533696.3904   \n",
      "\n",
      "0 2021-09-01 00:00:00  \n",
      "1                   -  \n",
      "2         329287.2922  \n",
      "3          533093.293  \n",
      "4          375156.155  \n",
      "5         542095.3343  \n",
      "\n",
      "[5 rows x 323 columns]\n"
     ]
    }
   ],
   "source": [
    "## Rename columns\n",
    "properties_trans = properties_trans.rename(columns = {'Unnamed: 0':'Borough', pd.NaT:'ID'})\n",
    "print(properties_trans.head())"
   ]
  },
  {
   "cell_type": "markdown",
   "metadata": {
    "colab_type": "text",
    "id": "jy8BzXHmoWEw"
   },
   "source": [
    "**2.4.Transforming the data**\n",
    "\n",
    "Remember what Wes McKinney said about tidy data? \n",
    "\n",
    "You might need to **melt** your DataFrame here. "
   ]
  },
  {
   "cell_type": "code",
   "execution_count": 63,
   "metadata": {
    "colab": {},
    "colab_type": "code",
    "id": "S2wM0qLuo2Zt"
   },
   "outputs": [
    {
     "name": "stdout",
     "output_type": "stream",
     "text": [
      "              Borough         ID       Date AveragePrice\n",
      "0      City of London  E09000001 1995-01-01  91448.98487\n",
      "1  Barking & Dagenham  E09000002 1995-01-01   50460.2266\n",
      "2              Barnet  E09000003 1995-01-01  93284.51832\n",
      "3              Bexley  E09000004 1995-01-01  64958.09036\n",
      "4               Brent  E09000005 1995-01-01  71306.56698\n"
     ]
    }
   ],
   "source": [
    "## Melt the Data frame; Convert Month columns to row so tht every Borough will have a row for each year. \n",
    "##  Before melt :  One row per Borough\n",
    "##  After melt :  One row per Borough per month - Total rows for each Borough will be no. of months od data.\n",
    "##   Name the columns as Date and Average Price.\n",
    "properties_melted = properties_trans.melt(id_vars=['Borough','ID'],var_name='Date',value_name='AveragePrice')\n",
    "print(properties_melted.head())"
   ]
  },
  {
   "cell_type": "markdown",
   "metadata": {},
   "source": [
    "**NOTE: Next step is not part of Original notebook**\n",
    "\n",
    "Few values for Average price are hypen \"-\". Replacing those with None"
   ]
  },
  {
   "cell_type": "code",
   "execution_count": 64,
   "metadata": {},
   "outputs": [
    {
     "name": "stdout",
     "output_type": "stream",
     "text": [
      "**** Data Types ****\n",
      "Borough                 object\n",
      "ID                      object\n",
      "Date            datetime64[ns]\n",
      "AveragePrice            object\n",
      "dtype: object\n",
      "\n",
      "**** Rows with value as hyphen ****\n",
      "              Borough         ID       Date AveragePrice\n",
      "15264  City of London  E09000001 2021-07-01            -\n",
      "15312  City of London  E09000001 2021-08-01            -\n",
      "15360  City of London  E09000001 2021-09-01            -\n"
     ]
    }
   ],
   "source": [
    "print('**** Data Types ****')\n",
    "print(properties_melted.dtypes)\n",
    "\n",
    "## Replace hyphen with None\n",
    "print('\\n**** Rows with value as hyphen ****')\n",
    "print(properties_melted[properties_melted['AveragePrice'] == '-'])\n",
    "properties_melted['AveragePrice'] = properties_melted['AveragePrice'].replace({\"-\":None})"
   ]
  },
  {
   "cell_type": "markdown",
   "metadata": {
    "colab_type": "text",
    "id": "7kIsgAo7o3mf"
   },
   "source": [
    "Remember to make sure your column data types are all correct. Average prices, for example, should be floating point numbers... "
   ]
  },
  {
   "cell_type": "code",
   "execution_count": 67,
   "metadata": {
    "colab": {},
    "colab_type": "code",
    "id": "ZcR4IHbcpOaq"
   },
   "outputs": [
    {
     "name": "stdout",
     "output_type": "stream",
     "text": [
      "**** Data Types ****\n",
      "Borough                 object\n",
      "ID                      object\n",
      "Date            datetime64[ns]\n",
      "AveragePrice           float64\n",
      "dtype: object\n"
     ]
    }
   ],
   "source": [
    "print('**** Data Types ****')\n",
    "print(properties_melted.dtypes)\n",
    "## After removing hypens from the data frame the data type of Average Price automatically updates to Float\n",
    "## Conversion no required\n",
    "# properties_melted['AveragePrice'] = pd.to_numeric(properties_melted['AveragePrice'])\n",
    "# print(properties_melted.dtypes)"
   ]
  },
  {
   "cell_type": "markdown",
   "metadata": {
    "colab_type": "text",
    "id": "knLUXHLypOtw"
   },
   "source": [
    "**2.5. Cleaning the data (part 3)**\n",
    "\n",
    "Do we have an equal number of observations in the ID, Average Price, Month, and London Borough columns? Remember that there are only 32 London Boroughs. How many entries do you have in that column? \n",
    "\n",
    "Check out the contents of the London Borough column, and if you find null values, get rid of them however you see fit. "
   ]
  },
  {
   "cell_type": "code",
   "execution_count": 68,
   "metadata": {
    "colab": {},
    "colab_type": "code",
    "id": "BnvTW5a3p0fC"
   },
   "outputs": [
    {
     "name": "stdout",
     "output_type": "stream",
     "text": [
      "**** Unique Boroughs ****\n",
      "['City of London' 'Barking & Dagenham' 'Barnet' 'Bexley' 'Brent' 'Bromley'\n",
      " 'Camden' 'Croydon' 'Ealing' 'Enfield' 'Greenwich' 'Hackney'\n",
      " 'Hammersmith & Fulham' 'Haringey' 'Harrow' 'Havering' 'Hillingdon'\n",
      " 'Hounslow' 'Islington' 'Kensington & Chelsea' 'Kingston upon Thames'\n",
      " 'Lambeth' 'Lewisham' 'Merton' 'Newham' 'Redbridge' 'Richmond upon Thames'\n",
      " 'Southwark' 'Sutton' 'Tower Hamlets' 'Waltham Forest' 'Wandsworth'\n",
      " 'Westminster' 'Unnamed: 34' 'Inner London' 'Outer London' 'Unnamed: 37'\n",
      " 'NORTH EAST' 'NORTH WEST' 'YORKS & THE HUMBER' 'EAST MIDLANDS'\n",
      " 'WEST MIDLANDS' 'EAST OF ENGLAND' 'LONDON' 'SOUTH EAST' 'SOUTH WEST'\n",
      " 'Unnamed: 47' 'England']\n",
      "\n",
      "**** Properties count ****\n",
      "<bound method DataFrame.count of                   Borough         ID       Date  AveragePrice\n",
      "0          City of London  E09000001 1995-01-01   91448.98487\n",
      "1      Barking & Dagenham  E09000002 1995-01-01   50460.22660\n",
      "2                  Barnet  E09000003 1995-01-01   93284.51832\n",
      "3                  Bexley  E09000004 1995-01-01   64958.09036\n",
      "4                   Brent  E09000005 1995-01-01   71306.56698\n",
      "...                   ...        ...        ...           ...\n",
      "15403              LONDON  E12000007 2021-09-01  507253.03520\n",
      "15404          SOUTH EAST  E12000008 2021-09-01  370886.27240\n",
      "15405          SOUTH WEST  E12000009 2021-09-01  301327.02220\n",
      "15406         Unnamed: 47        NaN 2021-09-01           NaN\n",
      "15407             England  E92000001 2021-09-01  287895.40030\n",
      "\n",
      "[15408 rows x 4 columns]>\n",
      "\n",
      "**** Data for boroughs names as Unnamed: 34, Unnamed: 37 and Unnamed: 47 ****\n",
      "<bound method DataFrame.count of            Borough   ID       Date  AveragePrice\n",
      "33     Unnamed: 34  NaN 1995-01-01           NaN\n",
      "36     Unnamed: 37  NaN 1995-01-01           NaN\n",
      "46     Unnamed: 47  NaN 1995-01-01           NaN\n",
      "81     Unnamed: 34  NaN 1995-02-01           NaN\n",
      "84     Unnamed: 37  NaN 1995-02-01           NaN\n",
      "...            ...  ...        ...           ...\n",
      "15348  Unnamed: 37  NaN 2021-08-01           NaN\n",
      "15358  Unnamed: 47  NaN 2021-08-01           NaN\n",
      "15393  Unnamed: 34  NaN 2021-09-01           NaN\n",
      "15396  Unnamed: 37  NaN 2021-09-01           NaN\n",
      "15406  Unnamed: 47  NaN 2021-09-01           NaN\n",
      "\n",
      "[963 rows x 4 columns]>\n",
      "\n",
      "**** Properties count after deleting NaN****\n",
      "<bound method DataFrame.count of                   Borough         ID       Date  AveragePrice\n",
      "0          City of London  E09000001 1995-01-01   91448.98487\n",
      "1      Barking & Dagenham  E09000002 1995-01-01   50460.22660\n",
      "2                  Barnet  E09000003 1995-01-01   93284.51832\n",
      "3                  Bexley  E09000004 1995-01-01   64958.09036\n",
      "4                   Brent  E09000005 1995-01-01   71306.56698\n",
      "...                   ...        ...        ...           ...\n",
      "15402     EAST OF ENGLAND  E12000006 2021-09-01  327981.68440\n",
      "15403              LONDON  E12000007 2021-09-01  507253.03520\n",
      "15404          SOUTH EAST  E12000008 2021-09-01  370886.27240\n",
      "15405          SOUTH WEST  E12000009 2021-09-01  301327.02220\n",
      "15407             England  E92000001 2021-09-01  287895.40030\n",
      "\n",
      "[14442 rows x 4 columns]>\n",
      "\n",
      "**** Verify if any of Average price is still NaN ****\n",
      "Empty DataFrame\n",
      "Columns: [Borough, ID, Date, AveragePrice]\n",
      "Index: []\n",
      "\n",
      "**** Shape after removing data for invalid borough ****\n",
      "(10590, 4)\n"
     ]
    }
   ],
   "source": [
    "print('**** Unique Boroughs ****')\n",
    "print(properties_melted['Borough'].unique())\n",
    "print('\\n**** Properties count ****')\n",
    "print(properties_melted.count)\n",
    "## Check the data in Unnamed: 34, Unnamed: 37, Unnamed: 47\n",
    "print('\\n**** Data for boroughs names as Unnamed: 34, Unnamed: 37 and Unnamed: 47 ****')\n",
    "print(properties_melted[properties_melted['Borough'].isin(['Unnamed: 34','Unnamed: 37','Unnamed: 47'])].count)\n",
    "\n",
    "## Delete all the rows which has Nan\n",
    "properties_noNan = properties_melted.dropna(axis = 0, how ='any')\n",
    "print('\\n**** Properties count after deleting NaN****')\n",
    "print(properties_noNan.count)\n",
    "\n",
    "print('\\n**** Verify if any of Average price is still NaN ****')\n",
    "print(properties_noNan[properties_noNan['AveragePrice'].isnull()])\n",
    "\n",
    "## List of boroughs which are not part of 32 borough\n",
    "invalidBoroughs = ['Inner London', 'Outer London', 'NORTH EAST', 'NORTH WEST', 'YORKS & THE HUMBER', \n",
    "                'EAST MIDLANDS', 'WEST MIDLANDS', 'EAST OF ENGLAND', 'LONDON', 'SOUTH EAST', 'SOUTH WEST', 'England']\n",
    "\n",
    "## Make a data frame londonBoroughDF which doesn't have any data for above baroughs\n",
    "londonBoroughDF = properties_noNan[~properties_noNan['Borough'].isin(invalidBoroughs)]\n",
    "#print(londonBoroughDF.head)\n",
    "print('\\n**** Shape after removing data for invalid borough ****')\n",
    "print(londonBoroughDF.shape)"
   ]
  },
  {
   "cell_type": "markdown",
   "metadata": {
    "colab_type": "text",
    "id": "PGEx6mJsp6dG"
   },
   "source": [
    "**2.6. Visualizing the data**\n",
    "\n",
    "To visualize the data, why not subset on a particular London Borough? Maybe do a line plot of Month against Average Price?"
   ]
  },
  {
   "cell_type": "code",
   "execution_count": 69,
   "metadata": {
    "colab": {},
    "colab_type": "code",
    "id": "nAg5pT9cqHAR"
   },
   "outputs": [
    {
     "data": {
      "text/plain": [
       "<AxesSubplot:title={'center':'Westminster Avg Prices'}, xlabel='Date'>"
      ]
     },
     "execution_count": 69,
     "metadata": {},
     "output_type": "execute_result"
    },
    {
     "data": {
      "image/png": "[encoded data removed]",
      "text/plain": [
       "<Figure size 432x288 with 1 Axes>"
      ]
     },
     "metadata": {
      "needs_background": "light"
     },
     "output_type": "display_data"
    }
   ],
   "source": [
    "## Visualize the data for Westminster with a lint plot \n",
    "westminster_data = londonBoroughDF[londonBoroughDF['Borough'] == 'Westminster']\n",
    "westminster_data.plot(kind='line', x='Date', y='AveragePrice', title='Westminster Avg Prices')"
   ]
  },
  {
   "cell_type": "markdown",
   "metadata": {
    "colab_type": "text",
    "id": "aWTPqSJeqHnC"
   },
   "source": [
    "To limit the number of data points you have, you might want to extract the year from every month value your *Month* column. \n",
    "\n",
    "To this end, you *could* apply a ***lambda function***. Your logic could work as follows:\n",
    "1. look through the `Month` column\n",
    "2. extract the year from each individual value in that column \n",
    "3. store that corresponding year as separate column. \n",
    "\n",
    "Whether you go ahead with this is up to you. Just so long as you answer our initial brief: which boroughs of London have seen the greatest house price increase, on average, over the past two decades? "
   ]
  },
  {
   "cell_type": "code",
   "execution_count": 71,
   "metadata": {
    "colab": {},
    "colab_type": "code",
    "id": "e0DF92cyqnu8"
   },
   "outputs": [
    {
     "name": "stdout",
     "output_type": "stream",
     "text": [
      "**** After adding Year ****\n",
      "<bound method NDFrame.head of                   Borough         ID       Date  AveragePrice  Year\n",
      "0          City of London  E09000001 1995-01-01   91448.98487  1995\n",
      "1      Barking & Dagenham  E09000002 1995-01-01   50460.22660  1995\n",
      "2                  Barnet  E09000003 1995-01-01   93284.51832  1995\n",
      "3                  Bexley  E09000004 1995-01-01   64958.09036  1995\n",
      "4                   Brent  E09000005 1995-01-01   71306.56698  1995\n",
      "...                   ...        ...        ...           ...   ...\n",
      "15388              Sutton  E09000029 2021-09-01  415227.66500  2021\n",
      "15389       Tower Hamlets  E09000030 2021-09-01  440846.73610  2021\n",
      "15390      Waltham Forest  E09000031 2021-09-01  505389.18630  2021\n",
      "15391          Wandsworth  E09000032 2021-09-01  599124.41270  2021\n",
      "15392         Westminster  E09000033 2021-09-01  965766.35540  2021\n",
      "\n",
      "[10590 rows x 5 columns]>\n",
      "\n",
      "**** Yearly Average price for each borough ****\n",
      "<bound method NDFrame.head of                 Borough  Year  AveragePrice\n",
      "0    Barking & Dagenham  1995  5.181797e+04\n",
      "1    Barking & Dagenham  1996  5.171819e+04\n",
      "2    Barking & Dagenham  1997  5.597426e+04\n",
      "3    Barking & Dagenham  1998  6.028582e+04\n",
      "4    Barking & Dagenham  1999  6.532093e+04\n",
      "..                  ...   ...           ...\n",
      "886         Westminster  2017  1.064772e+06\n",
      "887         Westminster  2018  1.020025e+06\n",
      "888         Westminster  2019  9.559986e+05\n",
      "889         Westminster  2020  9.604692e+05\n",
      "890         Westminster  2021  9.401643e+05\n",
      "\n",
      "[891 rows x 3 columns]>\n"
     ]
    },
    {
     "name": "stderr",
     "output_type": "stream",
     "text": [
      "<ipython-input-71-3bd2b8443e3f>:2: SettingWithCopyWarning: \n",
      "A value is trying to be set on a copy of a slice from a DataFrame.\n",
      "Try using .loc[row_indexer,col_indexer] = value instead\n",
      "\n",
      "See the caveats in the documentation: https://pandas.pydata.org/pandas-docs/stable/user_guide/indexing.html#returning-a-view-versus-a-copy\n",
      "  londonBoroughDF['Year'] = londonBoroughDF['Date'].apply(lambda x : x.year)\n"
     ]
    }
   ],
   "source": [
    "## Add a new column for Year by extracting year from Date column\n",
    "londonBoroughDF['Year'] = londonBoroughDF['Date'].apply(lambda x : x.year)\n",
    "print('**** After adding Year ****')\n",
    "print(londonBoroughDF.head)\n",
    "\n",
    "## Gorup by Borough and Year and calculate the mean; 12 month data for each year will be \n",
    "##    aggregated to 1 row for that year. Its sum of average price for each month divided by 12\n",
    "londonBorough_yearly_avg = londonBoroughDF.groupby(['Borough','Year']).mean()\n",
    "londonBorough_yearly_avg = londonBorough_yearly_avg.reset_index()\n",
    "print('\\n**** Yearly Average price for each borough ****')\n",
    "print(londonBorough_yearly_avg.head)\n"
   ]
  },
  {
   "cell_type": "markdown",
   "metadata": {
    "colab_type": "text",
    "id": "2knuTxAEqoJ4"
   },
   "source": [
    "**3. Modeling**\n",
    "\n",
    "Consider creating a function that will calculate a ratio of house prices, comparing the price of a house in 2018 to the price in 1998.\n",
    "\n",
    "Consider calling this function create_price_ratio.\n",
    "\n",
    "You'd want this function to:\n",
    "1. Take a filter of dfg, specifically where this filter constrains the London_Borough, as an argument. For example, one admissible argument should be: dfg[dfg['London_Borough']=='Camden'].\n",
    "2. Get the Average Price for that Borough, for the years 1998 and 2018.\n",
    "4. Calculate the ratio of the Average Price for 1998 divided by the Average Price for 2018.\n",
    "5. Return that ratio.\n",
    "\n",
    "Once you've written this function, you ultimately want to use it to iterate through all the unique London_Boroughs and work out the ratio capturing the difference of house prices between 1998 and 2018.\n",
    "\n",
    "Bear in mind: you don't have to write a function like this if you don't want to. If you can solve the brief otherwise, then great! \n",
    "\n",
    "***Hint***: This section should test the skills you acquired in:\n",
    "- Python Data Science Toolbox - Part One, all modules"
   ]
  },
  {
   "cell_type": "code",
   "execution_count": 82,
   "metadata": {
    "colab": {},
    "colab_type": "code",
    "id": "cKTyr437UgDa"
   },
   "outputs": [
    {
     "name": "stdout",
     "output_type": "stream",
     "text": [
      "\n",
      "**** Dictionary with borough name and price ratio ****\n",
      "{'Barking & Dagenham': [3.896130929003452], 'Barnet': [3.1305268090075833], 'Bexley': [3.324507532661672], 'Brent': [3.446670779724697], 'Bromley': [2.9410119402748167], 'Camden': [3.358211634121892], 'City of London': [3.792678220147692], 'Croydon': [3.157042942806126], 'Ealing': [3.128507691877485], 'Enfield': [3.250120316498045], 'Greenwich': [3.5891974687052857], 'Hackney': [4.387149599666481], 'Hammersmith & Fulham': [2.9459947465596765], 'Haringey': [3.833315610643173], 'Harrow': [2.9728667890228717], 'Havering': [3.3843558032905743], 'Hillingdon': [3.1181360265778104], 'Hounslow': [3.0030285097705134], 'Islington': [3.440534747930312], 'Kensington & Chelsea': [3.520050651196418], 'Kingston upon Thames': [3.0116761858514103], 'Lambeth': [3.5682621912735297], 'Lewisham': [3.9493392649077212], 'Merton': [3.455262461920127], 'Newham': [3.9987452337591614], 'Redbridge': [3.4032269219739812], 'Richmond upon Thames': [2.988355832791291], 'Southwark': [3.590928824874734], 'Sutton': [3.002848383760229], 'Tower Hamlets': [3.2870040759564683], 'Waltham Forest': [4.3677515406050595], 'Wandsworth': [3.3189961882319925], 'Westminster': [3.6871316477404075]}\n",
      "\n",
      "**** After converting to Data Frame and transposing ****\n",
      "                index         0\n",
      "0  Barking & Dagenham  3.896131\n",
      "1              Barnet  3.130527\n",
      "2              Bexley  3.324508\n",
      "3               Brent  3.446671\n",
      "4             Bromley  2.941012\n",
      "\n",
      "**** Data Frame with Columns namnes ****\n",
      "              Borough      2018\n",
      "0  Barking & Dagenham  3.896131\n",
      "1              Barnet  3.130527\n",
      "2              Bexley  3.324508\n",
      "3               Brent  3.446671\n",
      "4             Bromley  2.941012\n",
      "\n",
      "**** Data Frame sorted in descending order ****\n",
      "               Borough      2018\n",
      "11             Hackney  4.387150\n",
      "30      Waltham Forest  4.367752\n",
      "24              Newham  3.998745\n",
      "22            Lewisham  3.949339\n",
      "0   Barking & Dagenham  3.896131\n",
      "13            Haringey  3.833316\n",
      "6       City of London  3.792678\n",
      "32         Westminster  3.687132\n",
      "27           Southwark  3.590929\n",
      "10           Greenwich  3.589197\n"
     ]
    },
    {
     "data": {
      "text/plain": [
       "Text(0, 0.5, 'Ratio')"
      ]
     },
     "execution_count": 82,
     "metadata": {},
     "output_type": "execute_result"
    },
    {
     "data": {
      "image/png": "[encoded data removed]",
      "text/plain": [
       "<Figure size 432x288 with 1 Axes>"
      ]
     },
     "metadata": {
      "needs_background": "light"
     },
     "output_type": "display_data"
    }
   ],
   "source": [
    "## Function to calculate ratio of average price in 1998 to average price in 2018\n",
    "def create_price_ratio(f):\n",
    "    avg_price_1998 = float(f['AveragePrice'][f['Year']==1998])\n",
    "    avg_price_2018 = float(f['AveragePrice'][f['Year']==2018])\n",
    "    avg_price_ratio = [avg_price_2018/avg_price_1998]\n",
    "    return avg_price_ratio\n",
    "\n",
    "#create_price_ratio(londonBorough_yearly_avg[londonBorough_yearly_avg['Borough'] == 'Westminster'])\n",
    "\n",
    "## Create a dictionary with key as borough name and value as price ratio\n",
    "borough_ratio_dict = {}\n",
    "for name in londonBorough_yearly_avg['Borough']:\n",
    "    borough_specific_data = londonBorough_yearly_avg[londonBorough_yearly_avg['Borough'] == name]\n",
    "    borough_ratio_dict[name] = create_price_ratio(borough_specific_data)\n",
    "print('\\n**** Dictionary with borough name and price ratio ****')\n",
    "print(borough_ratio_dict)\n",
    "\n",
    "## Convert dictionary to data frame\n",
    "borough_ratio_df = pd.DataFrame(borough_ratio_dict)\n",
    "\n",
    "## Transpose data frame\n",
    "borough_ratio_df = borough_ratio_df.transpose()\n",
    "borough_ratio_df = borough_ratio_df.reset_index()\n",
    "print('\\n**** After converting to Data Frame and transposing ****')\n",
    "print(borough_ratio_df.head())\n",
    "\n",
    "## Rename columns\n",
    "borough_ratio_df = borough_ratio_df.rename(columns = {'index':'Borough',0:'2018'})\n",
    "print('\\n**** Data Frame with Columns namnes ****')\n",
    "print(borough_ratio_df.head())\n",
    "\n",
    "## Sort in descending order and take top 10 values\n",
    "borough_ratio_top10 = borough_ratio_df.sort_values('2018', ascending=False).head(10)\n",
    "\n",
    "print('\\n**** Data Frame sorted in descending order ****')\n",
    "print(borough_ratio_top10)\n",
    "\n",
    "ax = borough_ratio_top10.plot(kind='bar', title='London Borough Avg Price ratio 1998 to 2018', legend=False)\n",
    "ax.set_xticklabels(borough_ratio_top10.Borough)\n",
    "ax.set_ylabel('Ratio')\n",
    "\n"
   ]
  },
  {
   "cell_type": "markdown",
   "metadata": {
    "colab_type": "text",
    "id": "NzYUI7FxJpgv"
   },
   "source": [
    "### 4. Conclusion\n",
    "\n",
    "The requirement was to find out \"which boroughs of London have seen the greatest increase in housing prices, on average, over the last two decades?\"\n",
    "1. Exploring the data initally was really helpful as it helped in identifying the irrelevent data i.e. Data for boroughs which are not part of London and empty rows.\n",
    "2. Next step was to convert the data which was in \"wider\" format to a \"taller\" format (which is easier to work upon) by transposing it. Month and corresponding average price were converted to rows.\n",
    "3. Data cleaning was done in order to remove the data which is not related to the problem. It reduced the data to work upon by a considerable amount.\n",
    "4. To solve the given problem, the yearly average price was required which was calculated through data transformation. The monthly average price was summed up and then average was calculated for year.\n",
    "5. Finally the data was modelled by calulating the ratio of average prices of 2018 to average price of 1998 and presented as bar graph which clearly shows Hackney has the greatest increase in housing prices over last 2 decades.\n",
    "\n",
    "\n"
   ]
  }
 ],
 "metadata": {
  "colab": {
   "collapsed_sections": [],
   "name": "Springboard Data Science Career Track Unit 4 Challenge - Tier 3 Complete .ipynb",
   "provenance": []
  },
  "kernelspec": {
   "display_name": "Python 3",
   "language": "python",
   "name": "python3"
  },
  "language_info": {
   "codemirror_mode": {
    "name": "ipython",
    "version": 3
   },
   "file_extension": ".py",
   "mimetype": "text/x-python",
   "name": "python",
   "nbconvert_exporter": "python",
   "pygments_lexer": "ipython3",
   "version": "3.8.8"
  }
 },
 "nbformat": 4,
 "nbformat_minor": 1
}
